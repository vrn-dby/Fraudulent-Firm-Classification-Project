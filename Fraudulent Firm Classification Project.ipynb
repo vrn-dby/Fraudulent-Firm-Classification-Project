{
 "cells": [
  {
   "cell_type": "code",
   "execution_count": 1,
   "metadata": {},
   "outputs": [],
   "source": [
    "# here's several helpful packages to load in \n",
    "\n",
    "import numpy as np # linear algebra\n",
    "import pandas as pd # data processing, CSV file I/O (e.g. pd.read_csv)\n",
    "import matplotlib.pyplot as plt # for data visualization\n",
    "import seaborn as sns # for statistical data visualization\n",
    "from sklearn.model_selection import train_test_split #to split the input and output\n",
    "%matplotlib inline"
   ]
  },
  {
   "cell_type": "markdown",
   "metadata": {},
   "source": [
    "# Data details\n",
    "https://archive.ics.uci.edu/ml/datasets/Audit+Data#"
   ]
  },
  {
   "cell_type": "code",
   "execution_count": 2,
   "metadata": {},
   "outputs": [
    {
     "data": {
      "text/html": [
       "<div>\n",
       "<style scoped>\n",
       "    .dataframe tbody tr th:only-of-type {\n",
       "        vertical-align: middle;\n",
       "    }\n",
       "\n",
       "    .dataframe tbody tr th {\n",
       "        vertical-align: top;\n",
       "    }\n",
       "\n",
       "    .dataframe thead th {\n",
       "        text-align: right;\n",
       "    }\n",
       "</style>\n",
       "<table border=\"1\" class=\"dataframe\">\n",
       "  <thead>\n",
       "    <tr style=\"text-align: right;\">\n",
       "      <th></th>\n",
       "      <th>Sector_score</th>\n",
       "      <th>LOCATION_ID</th>\n",
       "      <th>PARA_A</th>\n",
       "      <th>Score_A</th>\n",
       "      <th>Risk_A</th>\n",
       "      <th>PARA_B</th>\n",
       "      <th>Score_B</th>\n",
       "      <th>Risk_B</th>\n",
       "      <th>TOTAL</th>\n",
       "      <th>numbers</th>\n",
       "      <th>...</th>\n",
       "      <th>RiSk_E</th>\n",
       "      <th>History</th>\n",
       "      <th>Prob</th>\n",
       "      <th>Risk_F</th>\n",
       "      <th>Score</th>\n",
       "      <th>Inherent_Risk</th>\n",
       "      <th>CONTROL_RISK</th>\n",
       "      <th>Detection_Risk</th>\n",
       "      <th>Audit_Risk</th>\n",
       "      <th>Risk</th>\n",
       "    </tr>\n",
       "  </thead>\n",
       "  <tbody>\n",
       "    <tr>\n",
       "      <th>0</th>\n",
       "      <td>3.89</td>\n",
       "      <td>23</td>\n",
       "      <td>4.18</td>\n",
       "      <td>0.6</td>\n",
       "      <td>2.508</td>\n",
       "      <td>2.50</td>\n",
       "      <td>0.2</td>\n",
       "      <td>0.500</td>\n",
       "      <td>6.68</td>\n",
       "      <td>5.0</td>\n",
       "      <td>...</td>\n",
       "      <td>0.4</td>\n",
       "      <td>0</td>\n",
       "      <td>0.2</td>\n",
       "      <td>0.0</td>\n",
       "      <td>2.4</td>\n",
       "      <td>8.574</td>\n",
       "      <td>0.4</td>\n",
       "      <td>0.5</td>\n",
       "      <td>1.7148</td>\n",
       "      <td>1</td>\n",
       "    </tr>\n",
       "    <tr>\n",
       "      <th>1</th>\n",
       "      <td>3.89</td>\n",
       "      <td>6</td>\n",
       "      <td>0.00</td>\n",
       "      <td>0.2</td>\n",
       "      <td>0.000</td>\n",
       "      <td>4.83</td>\n",
       "      <td>0.2</td>\n",
       "      <td>0.966</td>\n",
       "      <td>4.83</td>\n",
       "      <td>5.0</td>\n",
       "      <td>...</td>\n",
       "      <td>0.4</td>\n",
       "      <td>0</td>\n",
       "      <td>0.2</td>\n",
       "      <td>0.0</td>\n",
       "      <td>2.0</td>\n",
       "      <td>2.554</td>\n",
       "      <td>0.4</td>\n",
       "      <td>0.5</td>\n",
       "      <td>0.5108</td>\n",
       "      <td>0</td>\n",
       "    </tr>\n",
       "    <tr>\n",
       "      <th>2</th>\n",
       "      <td>3.89</td>\n",
       "      <td>6</td>\n",
       "      <td>0.51</td>\n",
       "      <td>0.2</td>\n",
       "      <td>0.102</td>\n",
       "      <td>0.23</td>\n",
       "      <td>0.2</td>\n",
       "      <td>0.046</td>\n",
       "      <td>0.74</td>\n",
       "      <td>5.0</td>\n",
       "      <td>...</td>\n",
       "      <td>0.4</td>\n",
       "      <td>0</td>\n",
       "      <td>0.2</td>\n",
       "      <td>0.0</td>\n",
       "      <td>2.0</td>\n",
       "      <td>1.548</td>\n",
       "      <td>0.4</td>\n",
       "      <td>0.5</td>\n",
       "      <td>0.3096</td>\n",
       "      <td>0</td>\n",
       "    </tr>\n",
       "    <tr>\n",
       "      <th>3</th>\n",
       "      <td>3.89</td>\n",
       "      <td>6</td>\n",
       "      <td>0.00</td>\n",
       "      <td>0.2</td>\n",
       "      <td>0.000</td>\n",
       "      <td>10.80</td>\n",
       "      <td>0.6</td>\n",
       "      <td>6.480</td>\n",
       "      <td>10.80</td>\n",
       "      <td>6.0</td>\n",
       "      <td>...</td>\n",
       "      <td>0.4</td>\n",
       "      <td>0</td>\n",
       "      <td>0.2</td>\n",
       "      <td>0.0</td>\n",
       "      <td>4.4</td>\n",
       "      <td>17.530</td>\n",
       "      <td>0.4</td>\n",
       "      <td>0.5</td>\n",
       "      <td>3.5060</td>\n",
       "      <td>1</td>\n",
       "    </tr>\n",
       "    <tr>\n",
       "      <th>4</th>\n",
       "      <td>3.89</td>\n",
       "      <td>6</td>\n",
       "      <td>0.00</td>\n",
       "      <td>0.2</td>\n",
       "      <td>0.000</td>\n",
       "      <td>0.08</td>\n",
       "      <td>0.2</td>\n",
       "      <td>0.016</td>\n",
       "      <td>0.08</td>\n",
       "      <td>5.0</td>\n",
       "      <td>...</td>\n",
       "      <td>0.4</td>\n",
       "      <td>0</td>\n",
       "      <td>0.2</td>\n",
       "      <td>0.0</td>\n",
       "      <td>2.0</td>\n",
       "      <td>1.416</td>\n",
       "      <td>0.4</td>\n",
       "      <td>0.5</td>\n",
       "      <td>0.2832</td>\n",
       "      <td>0</td>\n",
       "    </tr>\n",
       "  </tbody>\n",
       "</table>\n",
       "<p>5 rows × 27 columns</p>\n",
       "</div>"
      ],
      "text/plain": [
       "   Sector_score LOCATION_ID  PARA_A  Score_A  Risk_A  PARA_B  Score_B  Risk_B  \\\n",
       "0          3.89          23    4.18      0.6   2.508    2.50      0.2   0.500   \n",
       "1          3.89           6    0.00      0.2   0.000    4.83      0.2   0.966   \n",
       "2          3.89           6    0.51      0.2   0.102    0.23      0.2   0.046   \n",
       "3          3.89           6    0.00      0.2   0.000   10.80      0.6   6.480   \n",
       "4          3.89           6    0.00      0.2   0.000    0.08      0.2   0.016   \n",
       "\n",
       "   TOTAL  numbers  ...  RiSk_E  History  Prob  Risk_F  Score  Inherent_Risk  \\\n",
       "0   6.68      5.0  ...     0.4        0   0.2     0.0    2.4          8.574   \n",
       "1   4.83      5.0  ...     0.4        0   0.2     0.0    2.0          2.554   \n",
       "2   0.74      5.0  ...     0.4        0   0.2     0.0    2.0          1.548   \n",
       "3  10.80      6.0  ...     0.4        0   0.2     0.0    4.4         17.530   \n",
       "4   0.08      5.0  ...     0.4        0   0.2     0.0    2.0          1.416   \n",
       "\n",
       "   CONTROL_RISK  Detection_Risk  Audit_Risk  Risk  \n",
       "0           0.4             0.5      1.7148     1  \n",
       "1           0.4             0.5      0.5108     0  \n",
       "2           0.4             0.5      0.3096     0  \n",
       "3           0.4             0.5      3.5060     1  \n",
       "4           0.4             0.5      0.2832     0  \n",
       "\n",
       "[5 rows x 27 columns]"
      ]
     },
     "execution_count": 2,
     "metadata": {},
     "output_type": "execute_result"
    }
   ],
   "source": [
    "#Data load with help of pandas\n",
    "df = pd.read_csv ('/Users/manan/Desktop/vrn trash/data science/audit_data/audit_data/audit_risk.csv')\n",
    "df.head()  #visualize the fisrt 5 samples"
   ]
  },
  {
   "cell_type": "code",
   "execution_count": 3,
   "metadata": {},
   "outputs": [
    {
     "name": "stdout",
     "output_type": "stream",
     "text": [
      "Shape of data frame: (776, 27)\n",
      "Column's name :\n",
      " Index(['Sector_score', 'LOCATION_ID', 'PARA_A', 'Score_A', 'Risk_A', 'PARA_B',\n",
      "       'Score_B', 'Risk_B', 'TOTAL', 'numbers', 'Score_B.1', 'Risk_C',\n",
      "       'Money_Value', 'Score_MV', 'Risk_D', 'District_Loss', 'PROB', 'RiSk_E',\n",
      "       'History', 'Prob', 'Risk_F', 'Score', 'Inherent_Risk', 'CONTROL_RISK',\n",
      "       'Detection_Risk', 'Audit_Risk', 'Risk'],\n",
      "      dtype='object')\n"
     ]
    }
   ],
   "source": [
    "print('Shape of data frame:',df.shape)  # check the shape of data frame\n",
    "print(\"Column's name :\\n\", df.columns )  #print the columns name"
   ]
  },
  {
   "cell_type": "code",
   "execution_count": 4,
   "metadata": {},
   "outputs": [
    {
     "name": "stdout",
     "output_type": "stream",
     "text": [
      "<class 'pandas.core.frame.DataFrame'>\n",
      "RangeIndex: 776 entries, 0 to 775\n",
      "Data columns (total 27 columns):\n",
      " #   Column          Non-Null Count  Dtype  \n",
      "---  ------          --------------  -----  \n",
      " 0   Sector_score    776 non-null    float64\n",
      " 1   LOCATION_ID     776 non-null    object \n",
      " 2   PARA_A          776 non-null    float64\n",
      " 3   Score_A         776 non-null    float64\n",
      " 4   Risk_A          776 non-null    float64\n",
      " 5   PARA_B          776 non-null    float64\n",
      " 6   Score_B         776 non-null    float64\n",
      " 7   Risk_B          776 non-null    float64\n",
      " 8   TOTAL           776 non-null    float64\n",
      " 9   numbers         776 non-null    float64\n",
      " 10  Score_B.1       776 non-null    float64\n",
      " 11  Risk_C          776 non-null    float64\n",
      " 12  Money_Value     775 non-null    float64\n",
      " 13  Score_MV        776 non-null    float64\n",
      " 14  Risk_D          776 non-null    float64\n",
      " 15  District_Loss   776 non-null    int64  \n",
      " 16  PROB            776 non-null    float64\n",
      " 17  RiSk_E          776 non-null    float64\n",
      " 18  History         776 non-null    int64  \n",
      " 19  Prob            776 non-null    float64\n",
      " 20  Risk_F          776 non-null    float64\n",
      " 21  Score           776 non-null    float64\n",
      " 22  Inherent_Risk   776 non-null    float64\n",
      " 23  CONTROL_RISK    776 non-null    float64\n",
      " 24  Detection_Risk  776 non-null    float64\n",
      " 25  Audit_Risk      776 non-null    float64\n",
      " 26  Risk            776 non-null    int64  \n",
      "dtypes: float64(23), int64(3), object(1)\n",
      "memory usage: 163.8+ KB\n"
     ]
    }
   ],
   "source": [
    "df.info()  # basic information of data frame"
   ]
  },
  {
   "cell_type": "code",
   "execution_count": 5,
   "metadata": {},
   "outputs": [
    {
     "data": {
      "text/plain": [
       "Sector_score      0\n",
       "LOCATION_ID       0\n",
       "PARA_A            0\n",
       "Score_A           0\n",
       "Risk_A            0\n",
       "PARA_B            0\n",
       "Score_B           0\n",
       "Risk_B            0\n",
       "TOTAL             0\n",
       "numbers           0\n",
       "Score_B.1         0\n",
       "Risk_C            0\n",
       "Money_Value       0\n",
       "Score_MV          0\n",
       "Risk_D            0\n",
       "District_Loss     0\n",
       "PROB              0\n",
       "RiSk_E            0\n",
       "History           0\n",
       "Prob              0\n",
       "Risk_F            0\n",
       "Score             0\n",
       "Inherent_Risk     0\n",
       "CONTROL_RISK      0\n",
       "Detection_Risk    0\n",
       "Audit_Risk        0\n",
       "Risk              0\n",
       "dtype: int64"
      ]
     },
     "execution_count": 5,
     "metadata": {},
     "output_type": "execute_result"
    }
   ],
   "source": [
    "# check wheather data frame have null component as element in any column\n",
    "# reactify that null element\n",
    "meanvalue_money = df['Money_Value'].mean()  \n",
    "df['Money_Value'].fillna(value=meanvalue_money, inplace=True)\n",
    "df.isnull().sum()"
   ]
  },
  {
   "cell_type": "code",
   "execution_count": 6,
   "metadata": {},
   "outputs": [
    {
     "name": "stdout",
     "output_type": "stream",
     "text": [
      "     Sector_score  PARA_A  Score_A  Risk_A  PARA_B  Score_B  Risk_B  TOTAL  \\\n",
      "0            3.89    4.18      0.6   2.508    2.50      0.2   0.500   6.68   \n",
      "1            3.89    0.00      0.2   0.000    4.83      0.2   0.966   4.83   \n",
      "2            3.89    0.51      0.2   0.102    0.23      0.2   0.046   0.74   \n",
      "3            3.89    0.00      0.2   0.000   10.80      0.6   6.480  10.80   \n",
      "4            3.89    0.00      0.2   0.000    0.08      0.2   0.016   0.08   \n",
      "..            ...     ...      ...     ...     ...      ...     ...    ...   \n",
      "771         55.57    0.49      0.2   0.098    0.40      0.2   0.080   0.89   \n",
      "772         55.57    0.47      0.2   0.094    0.37      0.2   0.074   0.84   \n",
      "773         55.57    0.24      0.2   0.048    0.04      0.2   0.008   0.28   \n",
      "774         55.57    0.20      0.2   0.040    0.00      0.2   0.000   0.20   \n",
      "775         55.57    0.00      0.2   0.000    0.00      0.2   0.000   0.00   \n",
      "\n",
      "     numbers  Score_B.1  ...  PROB  RiSk_E  History  Prob  Risk_F  Score  \\\n",
      "0        5.0        0.2  ...   0.2     0.4        0   0.2     0.0    2.4   \n",
      "1        5.0        0.2  ...   0.2     0.4        0   0.2     0.0    2.0   \n",
      "2        5.0        0.2  ...   0.2     0.4        0   0.2     0.0    2.0   \n",
      "3        6.0        0.6  ...   0.2     0.4        0   0.2     0.0    4.4   \n",
      "4        5.0        0.2  ...   0.2     0.4        0   0.2     0.0    2.0   \n",
      "..       ...        ...  ...   ...     ...      ...   ...     ...    ...   \n",
      "771      5.0        0.2  ...   0.2     0.4        0   0.2     0.0    2.0   \n",
      "772      5.0        0.2  ...   0.2     0.4        0   0.2     0.0    2.0   \n",
      "773      5.0        0.2  ...   0.2     0.4        0   0.2     0.0    2.0   \n",
      "774      5.0        0.2  ...   0.2     0.4        0   0.2     0.0    2.0   \n",
      "775      5.0        0.2  ...   0.2     0.4        0   0.2     0.0    2.0   \n",
      "\n",
      "     Inherent_Risk  CONTROL_RISK  Detection_Risk  Audit_Risk  \n",
      "0            8.574           0.4             0.5      1.7148  \n",
      "1            2.554           0.4             0.5      0.5108  \n",
      "2            1.548           0.4             0.5      0.3096  \n",
      "3           17.530           0.4             0.5      3.5060  \n",
      "4            1.416           0.4             0.5      0.2832  \n",
      "..             ...           ...             ...         ...  \n",
      "771          1.578           0.4             0.5      0.3156  \n",
      "772          1.568           0.4             0.5      0.3136  \n",
      "773          1.456           0.4             0.5      0.2912  \n",
      "774          1.440           0.4             0.5      0.2880  \n",
      "775          1.464           0.4             0.5      0.2928  \n",
      "\n",
      "[776 rows x 25 columns]\n",
      "0      1\n",
      "1      0\n",
      "2      0\n",
      "3      1\n",
      "4      0\n",
      "      ..\n",
      "771    0\n",
      "772    0\n",
      "773    0\n",
      "774    0\n",
      "775    0\n",
      "Name: Risk, Length: 776, dtype: int64\n"
     ]
    }
   ],
   "source": [
    "X= df.drop([\"Risk\", 'LOCATION_ID'], axis=1)  # feature set from data frame\n",
    "Y = df['Risk']     # Target variable \n",
    "print(X)\n",
    "print(Y)"
   ]
  },
  {
   "cell_type": "code",
   "execution_count": 7,
   "metadata": {},
   "outputs": [],
   "source": [
    "# split the data frame into Train and test parts with fix random state\n",
    "X_train, X_test, y_train, y_test = train_test_split(X, Y, test_size=0.3, random_state=42)  "
   ]
  },
  {
   "cell_type": "code",
   "execution_count": 8,
   "metadata": {},
   "outputs": [],
   "source": [
    "#round(df.describe(),2)  ## statistical analysis of data frame, numerical values are around of to 2 upto 2 digit"
   ]
  },
  {
   "cell_type": "code",
   "execution_count": 9,
   "metadata": {},
   "outputs": [
    {
     "name": "stdout",
     "output_type": "stream",
     "text": [
      "shape of X_train sample: (543, 25) ,y_train: (543,)\n",
      "shape of X_test sample: (233, 25) ,y_test: (233,)\n"
     ]
    }
   ],
   "source": [
    "print('shape of X_train sample:',X_train.shape, ',y_train:', y_train.shape)  # check the shape of X_train, y_train\n",
    "print('shape of X_test sample:', X_test.shape,',y_test:', y_test.shape)    # check the chape of X_test, y_test"
   ]
  },
  {
   "cell_type": "code",
   "execution_count": 10,
   "metadata": {},
   "outputs": [],
   "source": [
    "from sklearn.preprocessing import StandardScaler  # scaling library is imported here\n",
    "\n",
    "scaler = StandardScaler()\n",
    "\n",
    "# standardize the X_train, X_test\n",
    "X_train = scaler.fit_transform(X_train)  \n",
    "X_test = scaler.transform(X_test)"
   ]
  },
  {
   "cell_type": "code",
   "execution_count": 11,
   "metadata": {},
   "outputs": [],
   "source": [
    "# import SVC classifier library\n",
    "from sklearn.svm import SVC \n",
    "\n",
    "# import metrics to compute accuracy\n",
    "from sklearn.metrics import accuracy_score\n",
    "\n",
    "# instantiate classifier with default hyperparameters\n",
    "#svc = SVC()\n",
    "svc=SVC(C= 1000, kernel= 'poly', verbose=True)   # customized hyperparaters is taken as per requirement"
   ]
  },
  {
   "cell_type": "code",
   "execution_count": 12,
   "metadata": {},
   "outputs": [
    {
     "name": "stdout",
     "output_type": "stream",
     "text": [
      "[LibSVM]"
     ]
    }
   ],
   "source": [
    "\n",
    "# fit classifier to training set\n",
    "svc.fit(X_train,y_train)\n",
    "\n",
    "# make predictions on test set\n",
    "y_pred=svc.predict(X_test)"
   ]
  },
  {
   "cell_type": "code",
   "execution_count": 13,
   "metadata": {},
   "outputs": [
    {
     "name": "stdout",
     "output_type": "stream",
     "text": [
      "Model accuracy score with default hyperparameters: 0.9828\n"
     ]
    }
   ],
   "source": [
    "# compute and print accuracy score\n",
    "print('Model accuracy score with default hyperparameters: {0:0.4f}'. format(accuracy_score(y_test, y_pred)))"
   ]
  },
  {
   "cell_type": "code",
   "execution_count": 14,
   "metadata": {},
   "outputs": [
    {
     "name": "stdout",
     "output_type": "stream",
     "text": [
      "Training set score: 0.9871\n",
      "Test set score: 0.9828\n"
     ]
    }
   ],
   "source": [
    "# print the scores on training and test set\n",
    "\n",
    "print('Training set score: {:.4f}'.format(svc.score(X_train, y_train)))\n",
    "\n",
    "print('Test set score: {:.4f}'.format(svc.score(X_test, y_test)))"
   ]
  },
  {
   "cell_type": "code",
   "execution_count": 15,
   "metadata": {},
   "outputs": [
    {
     "name": "stdout",
     "output_type": "stream",
     "text": [
      "Confusion matrix\n",
      "\n",
      " [[140   1]\n",
      " [  3  89]]\n",
      "\n",
      "True Positives(TP) =  140\n",
      "\n",
      "True Negatives(TN) =  89\n",
      "\n",
      "False Positives(FP) =  1\n",
      "\n",
      "False Negatives(FN) =  3\n"
     ]
    }
   ],
   "source": [
    "# Print the Confusion Matrix and slice it into four pieces\n",
    "\n",
    "from sklearn.metrics import confusion_matrix\n",
    "\n",
    "cm = confusion_matrix(y_test, y_pred)\n",
    "\n",
    "print('Confusion matrix\\n\\n', cm)\n",
    "\n",
    "print('\\nTrue Positives(TP) = ', cm[0,0])\n",
    "\n",
    "print('\\nTrue Negatives(TN) = ', cm[1,1])\n",
    "\n",
    "print('\\nFalse Positives(FP) = ', cm[0,1])\n",
    "\n",
    "print('\\nFalse Negatives(FN) = ', cm[1,0])"
   ]
  },
  {
   "cell_type": "code",
   "execution_count": 16,
   "metadata": {},
   "outputs": [
    {
     "data": {
      "text/plain": [
       "<AxesSubplot:>"
      ]
     },
     "execution_count": 16,
     "metadata": {},
     "output_type": "execute_result"
    },
    {
     "data": {
      "image/png": "[encoded data removed]",
      "text/plain": [
       "<Figure size 640x480 with 2 Axes>"
      ]
     },
     "metadata": {},
     "output_type": "display_data"
    }
   ],
   "source": [
    "# visualize confusion matrix with seaborn heatmap\n",
    "\n",
    "cm_matrix = pd.DataFrame(data=cm, columns=['Actual Positive:1', 'Actual Negative:0'], \n",
    "                                 index=['Predict Positive:1', 'Predict Negative:0'])\n",
    "\n",
    "sns.heatmap(cm_matrix, annot=True, fmt='d', cmap='YlGnBu')"
   ]
  },
  {
   "cell_type": "code",
   "execution_count": 17,
   "metadata": {},
   "outputs": [
    {
     "name": "stdout",
     "output_type": "stream",
     "text": [
      "              precision    recall  f1-score   support\n",
      "\n",
      "           0       0.98      0.99      0.99       141\n",
      "           1       0.99      0.97      0.98        92\n",
      "\n",
      "    accuracy                           0.98       233\n",
      "   macro avg       0.98      0.98      0.98       233\n",
      "weighted avg       0.98      0.98      0.98       233\n",
      "\n"
     ]
    }
   ],
   "source": [
    "from sklearn.metrics import classification_report\n",
    "\n",
    "print(classification_report(y_test, y_pred))"
   ]
  },
  {
   "cell_type": "code",
   "execution_count": 18,
   "metadata": {},
   "outputs": [
    {
     "name": "stdout",
     "output_type": "stream",
     "text": [
      "Classification accuracy : 0.9828\n"
     ]
    }
   ],
   "source": [
    "TP = cm[0,0]\n",
    "TN = cm[1,1]\n",
    "FP = cm[0,1]\n",
    "FN = cm[1,0]\n",
    "\n",
    "# print classification accuracy\n",
    "\n",
    "classification_accuracy = (TP + TN) / float(TP + TN + FP + FN)\n",
    "\n",
    "print('Classification accuracy : {0:0.4f}'.format(classification_accuracy))"
   ]
  },
  {
   "cell_type": "code",
   "execution_count": 19,
   "metadata": {},
   "outputs": [
    {
     "name": "stdout",
     "output_type": "stream",
     "text": [
      "Classification error : 0.0172\n"
     ]
    }
   ],
   "source": [
    "# print classification error\n",
    "\n",
    "classification_error = (FP + FN) / float(TP + TN + FP + FN)\n",
    "\n",
    "print('Classification error : {0:0.4f}'.format(classification_error))\n"
   ]
  },
  {
   "cell_type": "code",
   "execution_count": 20,
   "metadata": {},
   "outputs": [
    {
     "name": "stdout",
     "output_type": "stream",
     "text": [
      "Precision : 0.9929\n"
     ]
    }
   ],
   "source": [
    "\n",
    "# print precision score\n",
    "\n",
    "precision = TP / float(TP + FP)\n",
    "\n",
    "print('Precision : {0:0.4f}'.format(precision))"
   ]
  },
  {
   "cell_type": "code",
   "execution_count": 21,
   "metadata": {},
   "outputs": [
    {
     "name": "stdout",
     "output_type": "stream",
     "text": [
      "Recall or Sensitivity : 0.9790\n",
      "True Positive Rate : 0.9790\n",
      "False Positive Rate : 0.0111\n",
      "Specificity : 0.9889\n"
     ]
    }
   ],
   "source": [
    "recall = TP / float(TP + FN)                                           # recall metric calculation\n",
    "print('Recall or Sensitivity : {0:0.4f}'.format(recall))\n",
    "\n",
    "\n",
    "true_positive_rate = TP / float(TP + FN)                              # true positive rate calculation\n",
    "print('True Positive Rate : {0:0.4f}'.format(true_positive_rate))\n",
    "\n",
    "false_positive_rate = FP / float(FP + TN)                             # false positive rate calculation\n",
    "print('False Positive Rate : {0:0.4f}'.format(false_positive_rate))\n",
    "\n",
    "specificity = TN / (TN + FP)                                         # specificity calaculation\n",
    "print('Specificity : {0:0.4f}'.format(specificity))\n"
   ]
  },
  {
   "cell_type": "code",
   "execution_count": 22,
   "metadata": {},
   "outputs": [
    {
     "data": {
      "image/png": "[encoded data removed]",
      "text/plain": [
       "<Figure size 600x600 with 1 Axes>"
      ]
     },
     "metadata": {},
     "output_type": "display_data"
    }
   ],
   "source": [
    "# plot ROC Curve\n",
    "\n",
    "from sklearn.metrics import roc_curve     # metric variable is imported by sklearn library \n",
    "\n",
    "fpr, tpr, thresholds = roc_curve(y_test, y_pred)\n",
    "plt.figure(figsize=(6,6))\n",
    "plt.plot(fpr, tpr, linewidth=2)\n",
    "plt.plot([0,1], [0,1], 'k--' )\n",
    "plt.rcParams['font.size'] = 12\n",
    "plt.title('ROC curve for  classifier')\n",
    "plt.xlabel('False Positive Rate (1 - Specificity)')\n",
    "plt.ylabel('True Positive Rate (Sensitivity)')\n",
    "plt.show()\n"
   ]
  },
  {
   "cell_type": "code",
   "execution_count": 23,
   "metadata": {},
   "outputs": [
    {
     "name": "stdout",
     "output_type": "stream",
     "text": [
      "ROC AUC : 0.9801\n"
     ]
    }
   ],
   "source": [
    "# compute ROC AUC\n",
    "\n",
    "from sklearn.metrics import roc_auc_score     # import area under the curve calculation\n",
    "\n",
    "ROC_AUC = roc_auc_score(y_test, y_pred)\n",
    "\n",
    "print('ROC AUC : {:.4f}'.format(ROC_AUC))"
   ]
  },
  {
   "cell_type": "code",
   "execution_count": 24,
   "metadata": {},
   "outputs": [
    {
     "name": "stdout",
     "output_type": "stream",
     "text": [
      "[LibSVM][LibSVM][LibSVM][LibSVM][LibSVM][LibSVM]Cross validated ROC AUC : 0.9810\n"
     ]
    }
   ],
   "source": [
    "# calculate cross-validated ROC AUC \n",
    "\n",
    "from sklearn.model_selection import cross_val_score      # validated with random cv values, by cross_val_score metric\n",
    "\n",
    "Cross_validated_ROC_AUC = cross_val_score(svc, X_train, y_train, cv=6, scoring='roc_auc').mean()\n",
    "\n",
    "print('Cross validated ROC AUC : {:.4f}'.format(Cross_validated_ROC_AUC))"
   ]
  },
  {
   "cell_type": "code",
   "execution_count": null,
   "metadata": {},
   "outputs": [],
   "source": []
  },
  {
   "cell_type": "code",
   "execution_count": null,
   "metadata": {},
   "outputs": [],
   "source": []
  },
  {
   "cell_type": "code",
   "execution_count": null,
   "metadata": {},
   "outputs": [],
   "source": []
  },
  {
   "cell_type": "code",
   "execution_count": null,
   "metadata": {},
   "outputs": [],
   "source": []
  }
 ],
 "metadata": {
  "kernelspec": {
   "display_name": "Python 3 (ipykernel)",
   "language": "python",
   "name": "python3"
  },
  "language_info": {
   "codemirror_mode": {
    "name": "ipython",
    "version": 3
   },
   "file_extension": ".py",
   "mimetype": "text/x-python",
   "name": "python",
   "nbconvert_exporter": "python",
   "pygments_lexer": "ipython3",
   "version": "3.9.13"
  }
 },
 "nbformat": 4,
 "nbformat_minor": 2
}
